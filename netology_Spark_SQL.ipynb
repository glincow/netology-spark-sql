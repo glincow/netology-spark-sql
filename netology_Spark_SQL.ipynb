{
  "nbformat": 4,
  "nbformat_minor": 0,
  "metadata": {
    "colab": {
      "provenance": [],
      "authorship_tag": "ABX9TyNHMq+cFz7A4Xfpp0swkgJ4",
      "include_colab_link": true
    },
    "kernelspec": {
      "name": "python3",
      "display_name": "Python 3"
    },
    "language_info": {
      "name": "python"
    }
  },
  "cells": [
    {
      "cell_type": "markdown",
      "metadata": {
        "id": "view-in-github",
        "colab_type": "text"
      },
      "source": [
        "<a href=\"https://colab.research.google.com/github/glincow/netology-spark-sql/blob/main/%D0%9D%D0%B5%D1%82%D0%BE%D0%BB%D0%BE%D0%B3%D0%B8%D1%8F_Spark_SQL.ipynb\" target=\"_parent\"><img src=\"https://colab.research.google.com/assets/colab-badge.svg\" alt=\"Open In Colab\"/></a>"
      ]
    },
    {
      "cell_type": "markdown",
      "source": [
        "# Установка pyspark с помощью pip"
      ],
      "metadata": {
        "id": "PNXQrqjA3g5r"
      }
    },
    {
      "cell_type": "code",
      "execution_count": null,
      "metadata": {
        "colab": {
          "base_uri": "https://localhost:8080/"
        },
        "id": "X74ixFOK26UQ",
        "outputId": "f2aa8eab-3704-4d02-f48e-cd41a967658d"
      },
      "outputs": [
        {
          "output_type": "stream",
          "name": "stdout",
          "text": [
            "\u001b[2K     \u001b[90m━━━━━━━━━━━━━━━━━━━━━━━━━━━━━━━━━━━━━━━━\u001b[0m \u001b[32m317.0/317.0 MB\u001b[0m \u001b[31m2.9 MB/s\u001b[0m eta \u001b[36m0:00:00\u001b[0m\n",
            "\u001b[?25h  Preparing metadata (setup.py) ... \u001b[?25l\u001b[?25hdone\n",
            "  Building wheel for pyspark (setup.py) ... \u001b[?25l\u001b[?25hdone\n"
          ]
        }
      ],
      "source": [
        "pip install --quiet pyspark"
      ]
    },
    {
      "cell_type": "code",
      "source": [
        "from pyspark.sql import SparkSession\n",
        "\n",
        "spark = SparkSession.builder.appName(\"Practice\").getOrCreate()"
      ],
      "metadata": {
        "id": "zARJ-tfh3lUJ"
      },
      "execution_count": null,
      "outputs": []
    },
    {
      "cell_type": "markdown",
      "source": [
        "# Чтение из файла"
      ],
      "metadata": {
        "id": "NfUi8lTQzpcQ"
      }
    },
    {
      "cell_type": "code",
      "source": [
        "from pyspark import SparkFiles\n",
        "\n",
        "covid_data_file_url = \"https://raw.githubusercontent.com/glincow/netology-spark-sql/main/data/covid-data.csv\"\n",
        "spark.sparkContext.addFile(covid_data_file_url)\n",
        "file_path  = 'file://' + SparkFiles.get('covid-data.csv')\n",
        "df = spark.read.option('inferSchema', 'true').option('header', 'true').csv(file_path)"
      ],
      "metadata": {
        "id": "n1xPqXqi3wVW"
      },
      "execution_count": null,
      "outputs": []
    },
    {
      "cell_type": "markdown",
      "source": [
        "# Основные операции"
      ],
      "metadata": {
        "id": "7Wo5aLYNztSA"
      }
    },
    {
      "cell_type": "code",
      "source": [
        "df.show()"
      ],
      "metadata": {
        "colab": {
          "base_uri": "https://localhost:8080/"
        },
        "id": "vAqGGv876F33",
        "outputId": "18555eed-3178-4189-9b3e-2515558890e3"
      },
      "execution_count": null,
      "outputs": [
        {
          "output_type": "stream",
          "name": "stdout",
          "text": [
            "+--------+---------+-----------+----------+-----------+---------+------------------+------------+----------+-------------------+-----------------------+---------------------+------------------------------+------------------------+----------------------+-------------------------------+-----------------+------------+------------------------+-------------+-------------------------+---------------------+---------------------------------+----------------------+----------------------------------+---------+-----------+------------------------+----------------------+------------------+-------------------------------+-------------+--------------+-----------+------------------+-----------------+-----------------------+----------------+-------------------------+------------------------------+-----------------------------+-----------------------------------+-------------------------------------+----------------+-----------+------------------+----------+-------------+-------------+--------------+---------------+---------------------+-------------------+--------------+------------+----------------------+--------------------------+---------------+-----------------------+\n",
            "|iso_code|continent|   location|      date|total_cases|new_cases|new_cases_smoothed|total_deaths|new_deaths|new_deaths_smoothed|total_cases_per_million|new_cases_per_million|new_cases_smoothed_per_million|total_deaths_per_million|new_deaths_per_million|new_deaths_smoothed_per_million|reproduction_rate|icu_patients|icu_patients_per_million|hosp_patients|hosp_patients_per_million|weekly_icu_admissions|weekly_icu_admissions_per_million|weekly_hosp_admissions|weekly_hosp_admissions_per_million|new_tests|total_tests|total_tests_per_thousand|new_tests_per_thousand|new_tests_smoothed|new_tests_smoothed_per_thousand|positive_rate|tests_per_case|tests_units|total_vaccinations|people_vaccinated|people_fully_vaccinated|new_vaccinations|new_vaccinations_smoothed|total_vaccinations_per_hundred|people_vaccinated_per_hundred|people_fully_vaccinated_per_hundred|new_vaccinations_smoothed_per_million|stringency_index| population|population_density|median_age|aged_65_older|aged_70_older|gdp_per_capita|extreme_poverty|cardiovasc_death_rate|diabetes_prevalence|female_smokers|male_smokers|handwashing_facilities|hospital_beds_per_thousand|life_expectancy|human_development_index|\n",
            "+--------+---------+-----------+----------+-----------+---------+------------------+------------+----------+-------------------+-----------------------+---------------------+------------------------------+------------------------+----------------------+-------------------------------+-----------------+------------+------------------------+-------------+-------------------------+---------------------+---------------------------------+----------------------+----------------------------------+---------+-----------+------------------------+----------------------+------------------+-------------------------------+-------------+--------------+-----------+------------------+-----------------+-----------------------+----------------+-------------------------+------------------------------+-----------------------------+-----------------------------------+-------------------------------------+----------------+-----------+------------------+----------+-------------+-------------+--------------+---------------+---------------------+-------------------+--------------+------------+----------------------+--------------------------+---------------+-----------------------+\n",
            "|     AFG|     Asia|Afghanistan|2020-02-24|        1.0|      1.0|              NULL|        NULL|      NULL|               NULL|                  0.026|                0.026|                          NULL|                    NULL|                  NULL|                           NULL|             NULL|        NULL|                    NULL|         NULL|                     NULL|                 NULL|                             NULL|                  NULL|                              NULL|     NULL|       NULL|                    NULL|                  NULL|              NULL|                           NULL|         NULL|          NULL|       NULL|              NULL|             NULL|                   NULL|            NULL|                     NULL|                          NULL|                         NULL|                               NULL|                                 NULL|            8.33|3.8928341E7|            54.422|      18.6|        2.581|        1.337|      1803.987|           NULL|              597.029|               9.59|          NULL|        NULL|                37.746|                       0.5|          64.83|                  0.511|\n",
            "|     AFG|     Asia|Afghanistan|2020-02-25|        1.0|      0.0|              NULL|        NULL|      NULL|               NULL|                  0.026|                  0.0|                          NULL|                    NULL|                  NULL|                           NULL|             NULL|        NULL|                    NULL|         NULL|                     NULL|                 NULL|                             NULL|                  NULL|                              NULL|     NULL|       NULL|                    NULL|                  NULL|              NULL|                           NULL|         NULL|          NULL|       NULL|              NULL|             NULL|                   NULL|            NULL|                     NULL|                          NULL|                         NULL|                               NULL|                                 NULL|            8.33|3.8928341E7|            54.422|      18.6|        2.581|        1.337|      1803.987|           NULL|              597.029|               9.59|          NULL|        NULL|                37.746|                       0.5|          64.83|                  0.511|\n",
            "|     AFG|     Asia|Afghanistan|2020-02-26|        1.0|      0.0|              NULL|        NULL|      NULL|               NULL|                  0.026|                  0.0|                          NULL|                    NULL|                  NULL|                           NULL|             NULL|        NULL|                    NULL|         NULL|                     NULL|                 NULL|                             NULL|                  NULL|                              NULL|     NULL|       NULL|                    NULL|                  NULL|              NULL|                           NULL|         NULL|          NULL|       NULL|              NULL|             NULL|                   NULL|            NULL|                     NULL|                          NULL|                         NULL|                               NULL|                                 NULL|            8.33|3.8928341E7|            54.422|      18.6|        2.581|        1.337|      1803.987|           NULL|              597.029|               9.59|          NULL|        NULL|                37.746|                       0.5|          64.83|                  0.511|\n",
            "|     AFG|     Asia|Afghanistan|2020-02-27|        1.0|      0.0|              NULL|        NULL|      NULL|               NULL|                  0.026|                  0.0|                          NULL|                    NULL|                  NULL|                           NULL|             NULL|        NULL|                    NULL|         NULL|                     NULL|                 NULL|                             NULL|                  NULL|                              NULL|     NULL|       NULL|                    NULL|                  NULL|              NULL|                           NULL|         NULL|          NULL|       NULL|              NULL|             NULL|                   NULL|            NULL|                     NULL|                          NULL|                         NULL|                               NULL|                                 NULL|            8.33|3.8928341E7|            54.422|      18.6|        2.581|        1.337|      1803.987|           NULL|              597.029|               9.59|          NULL|        NULL|                37.746|                       0.5|          64.83|                  0.511|\n",
            "|     AFG|     Asia|Afghanistan|2020-02-28|        1.0|      0.0|              NULL|        NULL|      NULL|               NULL|                  0.026|                  0.0|                          NULL|                    NULL|                  NULL|                           NULL|             NULL|        NULL|                    NULL|         NULL|                     NULL|                 NULL|                             NULL|                  NULL|                              NULL|     NULL|       NULL|                    NULL|                  NULL|              NULL|                           NULL|         NULL|          NULL|       NULL|              NULL|             NULL|                   NULL|            NULL|                     NULL|                          NULL|                         NULL|                               NULL|                                 NULL|            8.33|3.8928341E7|            54.422|      18.6|        2.581|        1.337|      1803.987|           NULL|              597.029|               9.59|          NULL|        NULL|                37.746|                       0.5|          64.83|                  0.511|\n",
            "|     AFG|     Asia|Afghanistan|2020-02-29|        1.0|      0.0|             0.143|        NULL|      NULL|                0.0|                  0.026|                  0.0|                         0.004|                    NULL|                  NULL|                            0.0|             NULL|        NULL|                    NULL|         NULL|                     NULL|                 NULL|                             NULL|                  NULL|                              NULL|     NULL|       NULL|                    NULL|                  NULL|              NULL|                           NULL|         NULL|          NULL|       NULL|              NULL|             NULL|                   NULL|            NULL|                     NULL|                          NULL|                         NULL|                               NULL|                                 NULL|            8.33|3.8928341E7|            54.422|      18.6|        2.581|        1.337|      1803.987|           NULL|              597.029|               9.59|          NULL|        NULL|                37.746|                       0.5|          64.83|                  0.511|\n",
            "|     AFG|     Asia|Afghanistan|2020-03-01|        1.0|      0.0|             0.143|        NULL|      NULL|                0.0|                  0.026|                  0.0|                         0.004|                    NULL|                  NULL|                            0.0|             NULL|        NULL|                    NULL|         NULL|                     NULL|                 NULL|                             NULL|                  NULL|                              NULL|     NULL|       NULL|                    NULL|                  NULL|              NULL|                           NULL|         NULL|          NULL|       NULL|              NULL|             NULL|                   NULL|            NULL|                     NULL|                          NULL|                         NULL|                               NULL|                                 NULL|           27.78|3.8928341E7|            54.422|      18.6|        2.581|        1.337|      1803.987|           NULL|              597.029|               9.59|          NULL|        NULL|                37.746|                       0.5|          64.83|                  0.511|\n",
            "|     AFG|     Asia|Afghanistan|2020-03-02|        1.0|      0.0|               0.0|        NULL|      NULL|                0.0|                  0.026|                  0.0|                           0.0|                    NULL|                  NULL|                            0.0|             NULL|        NULL|                    NULL|         NULL|                     NULL|                 NULL|                             NULL|                  NULL|                              NULL|     NULL|       NULL|                    NULL|                  NULL|              NULL|                           NULL|         NULL|          NULL|       NULL|              NULL|             NULL|                   NULL|            NULL|                     NULL|                          NULL|                         NULL|                               NULL|                                 NULL|           27.78|3.8928341E7|            54.422|      18.6|        2.581|        1.337|      1803.987|           NULL|              597.029|               9.59|          NULL|        NULL|                37.746|                       0.5|          64.83|                  0.511|\n",
            "|     AFG|     Asia|Afghanistan|2020-03-03|        2.0|      1.0|             0.143|        NULL|      NULL|                0.0|                  0.051|                0.026|                         0.004|                    NULL|                  NULL|                            0.0|             NULL|        NULL|                    NULL|         NULL|                     NULL|                 NULL|                             NULL|                  NULL|                              NULL|     NULL|       NULL|                    NULL|                  NULL|              NULL|                           NULL|         NULL|          NULL|       NULL|              NULL|             NULL|                   NULL|            NULL|                     NULL|                          NULL|                         NULL|                               NULL|                                 NULL|           27.78|3.8928341E7|            54.422|      18.6|        2.581|        1.337|      1803.987|           NULL|              597.029|               9.59|          NULL|        NULL|                37.746|                       0.5|          64.83|                  0.511|\n",
            "|     AFG|     Asia|Afghanistan|2020-03-04|        4.0|      2.0|             0.429|        NULL|      NULL|                0.0|                  0.103|                0.051|                         0.011|                    NULL|                  NULL|                            0.0|             NULL|        NULL|                    NULL|         NULL|                     NULL|                 NULL|                             NULL|                  NULL|                              NULL|     NULL|       NULL|                    NULL|                  NULL|              NULL|                           NULL|         NULL|          NULL|       NULL|              NULL|             NULL|                   NULL|            NULL|                     NULL|                          NULL|                         NULL|                               NULL|                                 NULL|           27.78|3.8928341E7|            54.422|      18.6|        2.581|        1.337|      1803.987|           NULL|              597.029|               9.59|          NULL|        NULL|                37.746|                       0.5|          64.83|                  0.511|\n",
            "|     AFG|     Asia|Afghanistan|2020-03-05|        4.0|      0.0|             0.429|        NULL|      NULL|                0.0|                  0.103|                  0.0|                         0.011|                    NULL|                  NULL|                            0.0|             NULL|        NULL|                    NULL|         NULL|                     NULL|                 NULL|                             NULL|                  NULL|                              NULL|     NULL|       NULL|                    NULL|                  NULL|              NULL|                           NULL|         NULL|          NULL|       NULL|              NULL|             NULL|                   NULL|            NULL|                     NULL|                          NULL|                         NULL|                               NULL|                                 NULL|           27.78|3.8928341E7|            54.422|      18.6|        2.581|        1.337|      1803.987|           NULL|              597.029|               9.59|          NULL|        NULL|                37.746|                       0.5|          64.83|                  0.511|\n",
            "|     AFG|     Asia|Afghanistan|2020-03-06|        4.0|      0.0|             0.429|        NULL|      NULL|                0.0|                  0.103|                  0.0|                         0.011|                    NULL|                  NULL|                            0.0|             NULL|        NULL|                    NULL|         NULL|                     NULL|                 NULL|                             NULL|                  NULL|                              NULL|     NULL|       NULL|                    NULL|                  NULL|              NULL|                           NULL|         NULL|          NULL|       NULL|              NULL|             NULL|                   NULL|            NULL|                     NULL|                          NULL|                         NULL|                               NULL|                                 NULL|           27.78|3.8928341E7|            54.422|      18.6|        2.581|        1.337|      1803.987|           NULL|              597.029|               9.59|          NULL|        NULL|                37.746|                       0.5|          64.83|                  0.511|\n",
            "|     AFG|     Asia|Afghanistan|2020-03-07|        4.0|      0.0|             0.429|        NULL|      NULL|                0.0|                  0.103|                  0.0|                         0.011|                    NULL|                  NULL|                            0.0|             NULL|        NULL|                    NULL|         NULL|                     NULL|                 NULL|                             NULL|                  NULL|                              NULL|     NULL|       NULL|                    NULL|                  NULL|              NULL|                           NULL|         NULL|          NULL|       NULL|              NULL|             NULL|                   NULL|            NULL|                     NULL|                          NULL|                         NULL|                               NULL|                                 NULL|           27.78|3.8928341E7|            54.422|      18.6|        2.581|        1.337|      1803.987|           NULL|              597.029|               9.59|          NULL|        NULL|                37.746|                       0.5|          64.83|                  0.511|\n",
            "|     AFG|     Asia|Afghanistan|2020-03-08|        5.0|      1.0|             0.571|        NULL|      NULL|                0.0|                  0.128|                0.026|                         0.015|                    NULL|                  NULL|                            0.0|             NULL|        NULL|                    NULL|         NULL|                     NULL|                 NULL|                             NULL|                  NULL|                              NULL|     NULL|       NULL|                    NULL|                  NULL|              NULL|                           NULL|         NULL|          NULL|       NULL|              NULL|             NULL|                   NULL|            NULL|                     NULL|                          NULL|                         NULL|                               NULL|                                 NULL|           27.78|3.8928341E7|            54.422|      18.6|        2.581|        1.337|      1803.987|           NULL|              597.029|               9.59|          NULL|        NULL|                37.746|                       0.5|          64.83|                  0.511|\n",
            "|     AFG|     Asia|Afghanistan|2020-03-09|        7.0|      2.0|             0.857|        NULL|      NULL|                0.0|                   0.18|                0.051|                         0.022|                    NULL|                  NULL|                            0.0|             NULL|        NULL|                    NULL|         NULL|                     NULL|                 NULL|                             NULL|                  NULL|                              NULL|     NULL|       NULL|                    NULL|                  NULL|              NULL|                           NULL|         NULL|          NULL|       NULL|              NULL|             NULL|                   NULL|            NULL|                     NULL|                          NULL|                         NULL|                               NULL|                                 NULL|           27.78|3.8928341E7|            54.422|      18.6|        2.581|        1.337|      1803.987|           NULL|              597.029|               9.59|          NULL|        NULL|                37.746|                       0.5|          64.83|                  0.511|\n",
            "|     AFG|     Asia|Afghanistan|2020-03-10|        8.0|      1.0|             0.857|        NULL|      NULL|                0.0|                  0.206|                0.026|                         0.022|                    NULL|                  NULL|                            0.0|             NULL|        NULL|                    NULL|         NULL|                     NULL|                 NULL|                             NULL|                  NULL|                              NULL|     NULL|       NULL|                    NULL|                  NULL|              NULL|                           NULL|         NULL|          NULL|       NULL|              NULL|             NULL|                   NULL|            NULL|                     NULL|                          NULL|                         NULL|                               NULL|                                 NULL|           27.78|3.8928341E7|            54.422|      18.6|        2.581|        1.337|      1803.987|           NULL|              597.029|               9.59|          NULL|        NULL|                37.746|                       0.5|          64.83|                  0.511|\n",
            "|     AFG|     Asia|Afghanistan|2020-03-11|       11.0|      3.0|               1.0|        NULL|      NULL|                0.0|                  0.283|                0.077|                         0.026|                    NULL|                  NULL|                            0.0|             NULL|        NULL|                    NULL|         NULL|                     NULL|                 NULL|                             NULL|                  NULL|                              NULL|     NULL|       NULL|                    NULL|                  NULL|              NULL|                           NULL|         NULL|          NULL|       NULL|              NULL|             NULL|                   NULL|            NULL|                     NULL|                          NULL|                         NULL|                               NULL|                                 NULL|           27.78|3.8928341E7|            54.422|      18.6|        2.581|        1.337|      1803.987|           NULL|              597.029|               9.59|          NULL|        NULL|                37.746|                       0.5|          64.83|                  0.511|\n",
            "|     AFG|     Asia|Afghanistan|2020-03-12|       12.0|      1.0|             1.143|        NULL|      NULL|                0.0|                  0.308|                0.026|                         0.029|                    NULL|                  NULL|                            0.0|             NULL|        NULL|                    NULL|         NULL|                     NULL|                 NULL|                             NULL|                  NULL|                              NULL|     NULL|       NULL|                    NULL|                  NULL|              NULL|                           NULL|         NULL|          NULL|       NULL|              NULL|             NULL|                   NULL|            NULL|                     NULL|                          NULL|                         NULL|                               NULL|                                 NULL|           27.78|3.8928341E7|            54.422|      18.6|        2.581|        1.337|      1803.987|           NULL|              597.029|               9.59|          NULL|        NULL|                37.746|                       0.5|          64.83|                  0.511|\n",
            "|     AFG|     Asia|Afghanistan|2020-03-13|       13.0|      1.0|             1.286|        NULL|      NULL|                0.0|                  0.334|                0.026|                         0.033|                    NULL|                  NULL|                            0.0|             NULL|        NULL|                    NULL|         NULL|                     NULL|                 NULL|                             NULL|                  NULL|                              NULL|     NULL|       NULL|                    NULL|                  NULL|              NULL|                           NULL|         NULL|          NULL|       NULL|              NULL|             NULL|                   NULL|            NULL|                     NULL|                          NULL|                         NULL|                               NULL|                                 NULL|           27.78|3.8928341E7|            54.422|      18.6|        2.581|        1.337|      1803.987|           NULL|              597.029|               9.59|          NULL|        NULL|                37.746|                       0.5|          64.83|                  0.511|\n",
            "|     AFG|     Asia|Afghanistan|2020-03-14|       15.0|      2.0|             1.571|        NULL|      NULL|                0.0|                  0.385|                0.051|                          0.04|                    NULL|                  NULL|                            0.0|             NULL|        NULL|                    NULL|         NULL|                     NULL|                 NULL|                             NULL|                  NULL|                              NULL|     NULL|       NULL|                    NULL|                  NULL|              NULL|                           NULL|         NULL|          NULL|       NULL|              NULL|             NULL|                   NULL|            NULL|                     NULL|                          NULL|                         NULL|                               NULL|                                 NULL|           38.89|3.8928341E7|            54.422|      18.6|        2.581|        1.337|      1803.987|           NULL|              597.029|               9.59|          NULL|        NULL|                37.746|                       0.5|          64.83|                  0.511|\n",
            "+--------+---------+-----------+----------+-----------+---------+------------------+------------+----------+-------------------+-----------------------+---------------------+------------------------------+------------------------+----------------------+-------------------------------+-----------------+------------+------------------------+-------------+-------------------------+---------------------+---------------------------------+----------------------+----------------------------------+---------+-----------+------------------------+----------------------+------------------+-------------------------------+-------------+--------------+-----------+------------------+-----------------+-----------------------+----------------+-------------------------+------------------------------+-----------------------------+-----------------------------------+-------------------------------------+----------------+-----------+------------------+----------+-------------+-------------+--------------+---------------+---------------------+-------------------+--------------+------------+----------------------+--------------------------+---------------+-----------------------+\n",
            "only showing top 20 rows\n",
            "\n"
          ]
        }
      ]
    },
    {
      "cell_type": "code",
      "source": [
        "df.schema"
      ],
      "metadata": {
        "id": "lS2NU3rJ-LYY"
      },
      "execution_count": null,
      "outputs": []
    },
    {
      "cell_type": "code",
      "source": [
        "df.schema.json()"
      ],
      "metadata": {
        "id": "AZnQ4XMyzz5b"
      },
      "execution_count": null,
      "outputs": []
    },
    {
      "cell_type": "code",
      "source": [
        "df.printSchema()"
      ],
      "metadata": {
        "id": "MMUW0DSMz1hu"
      },
      "execution_count": null,
      "outputs": []
    },
    {
      "cell_type": "markdown",
      "source": [
        "# Выборка и фильтрация"
      ],
      "metadata": {
        "id": "VDL5OeCaz2Nx"
      }
    },
    {
      "cell_type": "code",
      "source": [
        "df.show()"
      ],
      "metadata": {
        "id": "KZWKzA9u0Izy"
      },
      "execution_count": null,
      "outputs": []
    },
    {
      "cell_type": "code",
      "source": [
        "df.select('iso_code', 'location', 'date', 'total_cases').show()"
      ],
      "metadata": {
        "id": "t0-nniac0Env"
      },
      "execution_count": null,
      "outputs": []
    },
    {
      "cell_type": "code",
      "source": [
        "from pyspark.sql import functions as F\n",
        "\n",
        "df_russia = df.select('iso_code', 'location', 'date', 'total_cases').where(F.col('location').startswith(\"Rus\"))\n",
        "df_russia.show()"
      ],
      "metadata": {
        "id": "8Hc6Fgx0z4WN"
      },
      "execution_count": null,
      "outputs": []
    },
    {
      "cell_type": "code",
      "source": [
        "df_russia.count()"
      ],
      "metadata": {
        "id": "AoWg73hUz9h-"
      },
      "execution_count": null,
      "outputs": []
    },
    {
      "cell_type": "markdown",
      "source": [
        "# Сортировка"
      ],
      "metadata": {
        "id": "Q9VgrkJy0Lwn"
      }
    },
    {
      "cell_type": "code",
      "source": [
        "df_russia.sort('date').desc().show()"
      ],
      "metadata": {
        "id": "EDKipWeX0Pml"
      },
      "execution_count": null,
      "outputs": []
    },
    {
      "cell_type": "code",
      "source": [
        "df_russia.sort(F.col('date').desc()).show()"
      ],
      "metadata": {
        "id": "ytd3x2EI0RMB"
      },
      "execution_count": null,
      "outputs": []
    },
    {
      "cell_type": "markdown",
      "source": [
        "# Операции над колонками"
      ],
      "metadata": {
        "id": "2YUa6QpF0Vu4"
      }
    },
    {
      "cell_type": "code",
      "source": [
        "df_deaths = df.select(\"location\", F.col('total_deaths') / 1000).sort(F.col('date').desc())\n",
        "df_deaths.show()"
      ],
      "metadata": {
        "id": "P1xD9AXP0agr",
        "outputId": "76ddea8e-132d-4340-e342-5d1cb8b41e9b",
        "colab": {
          "base_uri": "https://localhost:8080/"
        }
      },
      "execution_count": 43,
      "outputs": [
        {
          "output_type": "stream",
          "name": "stdout",
          "text": [
            "+-------------------+---------------------+\n",
            "|           location|(total_deaths / 1000)|\n",
            "+-------------------+---------------------+\n",
            "|    North Macedonia|                4.419|\n",
            "|            Belgium|               23.718|\n",
            "|              Samoa|                 NULL|\n",
            "|           Colombia|               67.931|\n",
            "|             Norway|                0.708|\n",
            "|             Belize|                0.318|\n",
            "|         Montenegro|                1.427|\n",
            "|        Afghanistan|                2.539|\n",
            "|            Oceania|                 1.02|\n",
            "|              Benin|                0.095|\n",
            "|            Namibia|                0.602|\n",
            "|            Albania|                 2.34|\n",
            "|               Oman|                1.821|\n",
            "|             Bhutan|                0.001|\n",
            "|            Myanmar|                3.206|\n",
            "|            Andorra|                0.123|\n",
            "|           Pakistan|               16.243|\n",
            "|            Bolivia|               12.625|\n",
            "|              Nepal|                3.075|\n",
            "|Antigua and Barbuda|                0.031|\n",
            "+-------------------+---------------------+\n",
            "only showing top 20 rows\n",
            "\n"
          ]
        }
      ]
    },
    {
      "cell_type": "code",
      "source": [
        "# Переименование колонки у существующего Dataframe\n",
        "# df.withColumnRenamed(\"<old_name>\", \"<new_name>\")\n",
        "\n",
        "df_deaths.withColumnRenamed(\"(total_deaths / 1000)\", \"total_deaths_per_1000\").show()"
      ],
      "metadata": {
        "id": "tmh9Cicy0c6O",
        "outputId": "07835611-4104-4bab-b66e-5aa10aac6032",
        "colab": {
          "base_uri": "https://localhost:8080/"
        }
      },
      "execution_count": 45,
      "outputs": [
        {
          "output_type": "stream",
          "name": "stdout",
          "text": [
            "+-------------------+---------------------+\n",
            "|           location|total_deaths_per_1000|\n",
            "+-------------------+---------------------+\n",
            "|    North Macedonia|                4.419|\n",
            "|            Belgium|               23.718|\n",
            "|              Samoa|                 NULL|\n",
            "|           Colombia|               67.931|\n",
            "|             Norway|                0.708|\n",
            "|             Belize|                0.318|\n",
            "|         Montenegro|                1.427|\n",
            "|        Afghanistan|                2.539|\n",
            "|            Oceania|                 1.02|\n",
            "|              Benin|                0.095|\n",
            "|            Namibia|                0.602|\n",
            "|            Albania|                 2.34|\n",
            "|               Oman|                1.821|\n",
            "|             Bhutan|                0.001|\n",
            "|            Myanmar|                3.206|\n",
            "|            Andorra|                0.123|\n",
            "|           Pakistan|               16.243|\n",
            "|            Bolivia|               12.625|\n",
            "|              Nepal|                3.075|\n",
            "|Antigua and Barbuda|                0.031|\n",
            "+-------------------+---------------------+\n",
            "only showing top 20 rows\n",
            "\n"
          ]
        }
      ]
    },
    {
      "cell_type": "code",
      "source": [
        "# Переименование колонки \"на лету\"\n",
        "df_deaths = df.select(\"location\", (F.col('total_deaths') / 1000).alias(\"total_deaths_per_1000\")).sort(F.col('date').desc())\n",
        "df_deaths.show()"
      ],
      "metadata": {
        "id": "dcO5OvZF0y1A",
        "outputId": "f54b3865-736c-4955-ec9d-f64c1f2b8651",
        "colab": {
          "base_uri": "https://localhost:8080/"
        }
      },
      "execution_count": 46,
      "outputs": [
        {
          "output_type": "stream",
          "name": "stdout",
          "text": [
            "+-------------------+---------------------+\n",
            "|           location|total_deaths_per_1000|\n",
            "+-------------------+---------------------+\n",
            "|    North Macedonia|                4.419|\n",
            "|            Belgium|               23.718|\n",
            "|              Samoa|                 NULL|\n",
            "|           Colombia|               67.931|\n",
            "|             Norway|                0.708|\n",
            "|             Belize|                0.318|\n",
            "|         Montenegro|                1.427|\n",
            "|        Afghanistan|                2.539|\n",
            "|            Oceania|                 1.02|\n",
            "|              Benin|                0.095|\n",
            "|            Namibia|                0.602|\n",
            "|            Albania|                 2.34|\n",
            "|               Oman|                1.821|\n",
            "|             Bhutan|                0.001|\n",
            "|            Myanmar|                3.206|\n",
            "|            Andorra|                0.123|\n",
            "|           Pakistan|               16.243|\n",
            "|            Bolivia|               12.625|\n",
            "|              Nepal|                3.075|\n",
            "|Antigua and Barbuda|                0.031|\n",
            "+-------------------+---------------------+\n",
            "only showing top 20 rows\n",
            "\n"
          ]
        }
      ]
    },
    {
      "cell_type": "code",
      "source": [
        "# Условные операции\n",
        "df_deaths.select(\"*\", F.when(F.col(\"total_deaths_per_1000\")>10, \"Red\").otherwise(\"Green\").alias(\"status\")).show()"
      ],
      "metadata": {
        "id": "_V-QIr401BNd",
        "outputId": "8fad829b-0356-48b4-830c-1a716329c7fb",
        "colab": {
          "base_uri": "https://localhost:8080/"
        }
      },
      "execution_count": 49,
      "outputs": [
        {
          "output_type": "stream",
          "name": "stdout",
          "text": [
            "+-------------------+---------------------+------+\n",
            "|           location|total_deaths_per_1000|status|\n",
            "+-------------------+---------------------+------+\n",
            "|    North Macedonia|                4.419| Green|\n",
            "|            Belgium|               23.718|   Red|\n",
            "|              Samoa|                 NULL| Green|\n",
            "|           Colombia|               67.931|   Red|\n",
            "|             Norway|                0.708| Green|\n",
            "|             Belize|                0.318| Green|\n",
            "|         Montenegro|                1.427| Green|\n",
            "|        Afghanistan|                2.539| Green|\n",
            "|            Oceania|                 1.02| Green|\n",
            "|              Benin|                0.095| Green|\n",
            "|            Namibia|                0.602| Green|\n",
            "|            Albania|                 2.34| Green|\n",
            "|               Oman|                1.821| Green|\n",
            "|             Bhutan|                0.001| Green|\n",
            "|            Myanmar|                3.206| Green|\n",
            "|            Andorra|                0.123| Green|\n",
            "|           Pakistan|               16.243|   Red|\n",
            "|            Bolivia|               12.625|   Red|\n",
            "|              Nepal|                3.075| Green|\n",
            "|Antigua and Barbuda|                0.031| Green|\n",
            "+-------------------+---------------------+------+\n",
            "only showing top 20 rows\n",
            "\n"
          ]
        }
      ]
    },
    {
      "cell_type": "markdown",
      "source": [
        "# Группировки и аггрегации"
      ],
      "metadata": {
        "id": "kqcnGKAn1Ndq"
      }
    },
    {
      "cell_type": "code",
      "source": [
        "df.groupBy(\"location\").sum(\"people_fully_vaccinated\").show()"
      ],
      "metadata": {
        "id": "xb2k2Ypj1Ick",
        "outputId": "35253807-100e-4f1a-e924-4ddfe8d7fc3e",
        "colab": {
          "base_uri": "https://localhost:8080/"
        }
      },
      "execution_count": 50,
      "outputs": [
        {
          "output_type": "stream",
          "name": "stdout",
          "text": [
            "+-------------+----------------------------+\n",
            "|     location|sum(people_fully_vaccinated)|\n",
            "+-------------+----------------------------+\n",
            "|         Chad|                        NULL|\n",
            "|     Anguilla|                        NULL|\n",
            "|International|                        NULL|\n",
            "|        Macao|                    255381.0|\n",
            "|       Guyana|                        NULL|\n",
            "|      Eritrea|                        NULL|\n",
            "|       Jersey|                    163501.0|\n",
            "|     Djibouti|                        NULL|\n",
            "|     Malaysia|                   6895196.0|\n",
            "|         Fiji|                        NULL|\n",
            "|       Malawi|                        NULL|\n",
            "|         Iraq|                        NULL|\n",
            "|       Europe|               1.682348426E9|\n",
            "|      Germany|                2.20678679E8|\n",
            "|      Comoros|                        NULL|\n",
            "|  Afghanistan|                        NULL|\n",
            "|     Cambodia|                   7573974.0|\n",
            "|       Jordan|                    609113.0|\n",
            "|     Maldives|                    199271.0|\n",
            "|       France|                 1.3966126E8|\n",
            "+-------------+----------------------------+\n",
            "only showing top 20 rows\n",
            "\n"
          ]
        }
      ]
    },
    {
      "cell_type": "code",
      "source": [
        "df_agg = df.groupBy(\"location\").agg(F.max(\"new_deaths\").alias(\"Max new deaths\"), F.sum(\"new_cases\").alias(\"Total cases\"))\n",
        "df_agg.show()"
      ],
      "metadata": {
        "id": "YQozYy2l1Udp",
        "outputId": "efcf762d-811b-473a-8ea0-cb18481a1d44",
        "colab": {
          "base_uri": "https://localhost:8080/"
        }
      },
      "execution_count": 53,
      "outputs": [
        {
          "output_type": "stream",
          "name": "stdout",
          "text": [
            "+-------------+--------------+-----------+\n",
            "|     location|Max new deaths|Total cases|\n",
            "+-------------+--------------+-----------+\n",
            "|         Chad|          10.0|     4691.0|\n",
            "|     Anguilla|          NULL|       NULL|\n",
            "|International|           3.0|      721.0|\n",
            "|        Macao|          NULL|       NULL|\n",
            "|       Guyana|           6.0|    11762.0|\n",
            "|      Eritrea|           3.0|     3491.0|\n",
            "|       Jersey|          NULL|       NULL|\n",
            "|     Djibouti|           9.0|    10412.0|\n",
            "|     Malaysia|          25.0|   372859.0|\n",
            "|         Fiji|           1.0|       72.0|\n",
            "|       Malawi|          73.0|    33919.0|\n",
            "|         Iraq|         122.0|   970987.0|\n",
            "|       Europe|        7554.0|4.2981282E7|\n",
            "|      Germany|        1734.0|  3154305.0|\n",
            "|      Comoros|          12.0|     3815.0|\n",
            "|  Afghanistan|          46.0|    57721.0|\n",
            "|     Cambodia|           4.0|     5771.0|\n",
            "|       Jordan|         111.0|   683466.0|\n",
            "|     Maldives|           2.0|    26145.0|\n",
            "|       France|        1438.0|  5321176.0|\n",
            "+-------------+--------------+-----------+\n",
            "only showing top 20 rows\n",
            "\n"
          ]
        }
      ]
    },
    {
      "cell_type": "markdown",
      "source": [
        "# Запись в файл"
      ],
      "metadata": {
        "id": "fPeNI1Mc1hDI"
      }
    },
    {
      "cell_type": "code",
      "source": [
        "# df.write.parquet(\"<path>\")\n",
        "# df.write.format(\"delta\").save(\"<path>\")\n",
        "\n",
        "df_agg.write.csv(\"/content/result2\")"
      ],
      "metadata": {
        "id": "vOA3hfjo1deq"
      },
      "execution_count": 55,
      "outputs": []
    },
    {
      "cell_type": "code",
      "source": [],
      "metadata": {
        "id": "N4dOkhoA14F3"
      },
      "execution_count": null,
      "outputs": []
    }
  ]
}
